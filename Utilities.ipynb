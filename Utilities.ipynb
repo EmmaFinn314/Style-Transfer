{
 "cells": [
  {
   "cell_type": "code",
   "execution_count": null,
   "metadata": {},
   "outputs": [],
   "source": [
    "# Utility Functions\n",
    "def load_image(path, max_size=112, shape=(112, 112)):\n",
    "    image = Image.open(path).convert('RGB')\n",
    "    # Determine the size to resize the image to\n",
    "    if shape is None:\n",
    "        if max(image.size) > max_size:\n",
    "            size = max_size\n",
    "        else:\n",
    "            size = max(image.size)\n",
    "        size = (size, size)\n",
    "    else:\n",
    "        size = shape\n",
    "    transform = transforms.Compose([\n",
    "        transforms.Resize(size),\n",
    "        transforms.CenterCrop((112, 112)),  # Ensure the image is centered and cropped\n",
    "        transforms.ToTensor(),\n",
    "        transforms.Normalize(mean=[0.485, 0.456, 0.406],\n",
    "                             std=[0.229, 0.224, 0.225])\n",
    "    ])\n",
    "    \n",
    "    image = transform(image).unsqueeze(0)  # Add batch dimension\n",
    "    return image\n",
    "\n",
    "def im_convert(tensor):\n",
    "  \"\"\" Display a tensor as an image. \"\"\"\n",
    "  image = tensor.cpu().clone().detach()     # tensor.clone().detach() would create a copy of tensor and removes tensor from computational graph(requires_grad = False)\n",
    "  image = image.numpy().squeeze()\n",
    "  image = image.transpose(1,2,0)\n",
    "  image = image * np.array((0.229, 0.224, 0.225)) + np.array((0.485, 0.456, 0.406))\n",
    "  image = image.clip(0, 1)\n",
    "  return image"
   ]
  },
  {
   "cell_type": "code",
   "execution_count": null,
   "metadata": {},
   "outputs": [],
   "source": [
    "# Gram Matrix Definitions\n",
    "def gram_matrix(tensor):\n",
    "  # get batch_size, depth, height, width of tensor\n",
    "  _, d, h, w = tensor.size()\n",
    "  # reshape so we are multiplying height and width\n",
    "  tensor = tensor.view(d, h * w)\n",
    "  # calc. gram matrix\n",
    "  gram = torch.mm(tensor, tensor.t())\n",
    "\n",
    "  return gram"
   ]
  }
 ],
 "metadata": {
  "language_info": {
   "name": "python"
  }
 },
 "nbformat": 4,
 "nbformat_minor": 2
}
